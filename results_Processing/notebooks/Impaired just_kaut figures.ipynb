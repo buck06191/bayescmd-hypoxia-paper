{
 "cells": [
  {
   "cell_type": "markdown",
   "metadata": {},
   "source": [
    "## Initial Loading of Data etc"
   ]
  },
  {
   "cell_type": "code",
   "execution_count": 1,
   "metadata": {},
   "outputs": [
    {
     "name": "stdout",
     "output_type": "stream",
     "text": [
      "STARTING AT: /home/buck06191/repos/GitHub/BayesCMD/bayescmd\n",
      " Looking for: BayesCMD\n",
      "STARTING AT: /home/buck06191/repos/GitHub/BayesCMD/bayescmd\n",
      " Looking for: BayesCMD\n",
      "STARTING AT: /home/buck06191/repos/GitHub/BayesCMD/bayescmd\n",
      " Looking for: BayesCMD\n",
      "STARTING AT: /home/buck06191/repos/GitHub/BayesCMD/bayescmd\n",
      " Looking for: BayesCMD\n",
      "Number of lines:\t49950\n",
      "Number of NaN values:\t0\n",
      "Index(['k_aut', 'euclidean', 'manhattan', 'MSE', 'MAE', 'Vmca_euclidean',\n",
      "       'Vmca_manhattan', 'Vmca_MSE', 'Vmca_MAE', 'CCO_euclidean',\n",
      "       'CCO_manhattan', 'CCO_MSE', 'CCO_MAE', 'TOI_euclidean', 'TOI_manhattan',\n",
      "       'TOI_MSE', 'TOI_MAE', 'CBF_euclidean', 'CBF_manhattan', 'CBF_MSE',\n",
      "       'CBF_MAE', 'ix', 'Batch'],\n",
      "      dtype='object')\n"
     ]
    }
   ],
   "source": [
    "\"\"\"Process results from 230218.\"\"\"\n",
    "import os\n",
    "import argparse\n",
    "import sys\n",
    "sys.path.append('..')\n",
    "from bayescmd.results_handling import kde_plot\n",
    "from bayescmd.results_handling import single_kde_plot\n",
    "from bayescmd.results_handling import scatter_dist_plot\n",
    "from bayescmd.results_handling import data_import\n",
    "from bayescmd.results_handling import plot_repeated_outputs\n",
    "from bayescmd.results_handling import histogram_plot\n",
    "from bayescmd.results_handling import data_merge_by_batch\n",
    "from bayescmd.abc import import_actual_data\n",
    "from bayescmd.abc import priors_creator\n",
    "from bayescmd.util import findBaseDir\n",
    "import matplotlib.pyplot as plt\n",
    "import json\n",
    "from distutils import dir_util\n",
    "\n",
    "BASEDIR = os.path.abspath(findBaseDir('BayesCMD'))\n",
    "\n",
    "parent_dir = '/home/buck06191/Dropbox/phd/PLOS_paper/data/parameters/just_kaut/impaired/'\n",
    "config = '../examples/configuration_files/just_kaut.json'\n",
    "\n",
    "# pfile = data_merge_by_batch(parent_dir)\n",
    "pfile = os.path.abspath(os.path.join(parent_dir, 'all_parameters.csv'))\n",
    "\n",
    "with open(config, 'r') as conf_f:\n",
    "    conf = json.load(conf_f)\n",
    "\n",
    "params = conf['priors']\n",
    "\n",
    "input_path = os.path.join(BASEDIR,\n",
    "                          'PLOS_paper',\n",
    "                          'data',\n",
    "                          'simulated_smooth_combined_impaired_ABP.csv')\n",
    "\n",
    "d0 = import_actual_data(input_path)\n",
    "\n",
    "targets = conf['targets']\n",
    "model_name = conf['model_name']\n",
    "inputs = conf['inputs']\n",
    "\n",
    "config = {\n",
    "    \"model_name\": model_name,\n",
    "    \"targets\": targets,\n",
    "    \"inputs\": inputs,\n",
    "    \"parameters\": params,\n",
    "    \"input_path\": input_path,\n",
    "    \"zero_flag\": {k: False for k in targets}\n",
    "}\n",
    "\n",
    "results = data_import(pfile)\n",
    "print(results.columns)\n",
    "\n",
    "\n",
    "# Set accepted limit, lim\n",
    "lim = 1000\n",
    "distances = ['{}_euclidean'.format(t) for t in config['targets']]\n",
    "distances.append('euclidean')"
   ]
  },
  {
   "cell_type": "code",
   "execution_count": 2,
   "metadata": {},
   "outputs": [
    {
     "name": "stdout",
     "output_type": "stream",
     "text": [
      "Working on VMCA_EUCLIDEAN\n",
      "Plotting total histogram\n",
      "Plotting fraction histogram\n",
      "Considering lowest 1000 values\n",
      "Generating KDE plot\n"
     ]
    },
    {
     "name": "stderr",
     "output_type": "stream",
     "text": [
      "/home/buck06191/.virtualenvs/python3/lib/python3.6/site-packages/pandas/core/indexing.py:194: SettingWithCopyWarning: \n",
      "A value is trying to be set on a copy of a slice from a DataFrame\n",
      "\n",
      "See the caveats in the documentation: http://pandas.pydata.org/pandas-docs/stable/indexing.html#indexing-view-versus-copy\n",
      "  self._setitem_with_indexer(indexer, value)\n",
      "../bayescmd/results_handling.py:664: SettingWithCopyWarning: \n",
      "A value is trying to be set on a copy of a slice from a DataFrame\n",
      "\n",
      "See the caveats in the documentation: http://pandas.pydata.org/pandas-docs/stable/indexing.html#indexing-view-versus-copy\n",
      "  sorted_df['Accepted'][sorted_df[d] == 100000] = 2\n"
     ]
    },
    {
     "name": "stdout",
     "output_type": "stream",
     "text": [
      "Generating averaged time series plot\n"
     ]
    },
    {
     "name": "stderr",
     "output_type": "stream",
     "text": [
      "/home/buck06191/.virtualenvs/python3/lib/python3.6/site-packages/seaborn/timeseries.py:183: UserWarning: The tsplot function is deprecated and will be removed or replaced (in a substantially altered version) in a future release.\n",
      "  warnings.warn(msg, UserWarning)\n"
     ]
    },
    {
     "name": "stdout",
     "output_type": "stream",
     "text": [
      "Working on CCO_EUCLIDEAN\n",
      "Plotting total histogram\n",
      "Plotting fraction histogram\n",
      "Considering lowest 1000 values\n",
      "Generating KDE plot\n",
      "Generating averaged time series plot\n",
      "Working on TOI_EUCLIDEAN\n",
      "Plotting total histogram\n",
      "Plotting fraction histogram\n",
      "Considering lowest 1000 values\n",
      "Generating KDE plot\n",
      "Generating averaged time series plot\n",
      "Working on CBF_EUCLIDEAN\n",
      "Plotting total histogram\n",
      "Plotting fraction histogram\n",
      "Considering lowest 1000 values\n",
      "Generating KDE plot\n",
      "Generating averaged time series plot\n",
      "Working on EUCLIDEAN\n",
      "Plotting total histogram\n",
      "Plotting fraction histogram\n",
      "Considering lowest 1000 values\n",
      "Generating KDE plot\n",
      "Generating averaged time series plot\n"
     ]
    }
   ],
   "source": [
    "for d in distances:\n",
    "    print(\"Working on {}\".format(d.upper()))\n",
    "    figPath = \"/home/buck06191/Dropbox/phd/Bayesian_fitting/{}/{}/{}/{}/\"\\\n",
    "        \"Figures/{}\".format(model_name, 'PLOS_paper',\n",
    "                            'just_kaut', 'Impaired', d)\n",
    "\n",
    "    dir_util.mkpath(figPath)\n",
    "    print(\"Plotting total histogram\")\n",
    "    hist1 = histogram_plot(results, distance=d, frac=1)\n",
    "    hist1.savefig(\n",
    "        os.path.join(figPath, 'full_histogram_real.png'), bbox_inches='tight')\n",
    "    print(\"Plotting fraction histogram\")\n",
    "    hist2 = histogram_plot(results, distance=d, limit=lim)\n",
    "    hist2.savefig(\n",
    "        os.path.join(figPath, 'fraction_histogram_real.png'),\n",
    "        bbox_inches='tight')\n",
    "    print(\"Considering lowest {} values\".format(lim))\n",
    "    # print(\"Generating scatter plot\")\n",
    "    # scatter_dist_plot(results, params, limit=lim, n_ticks=4)\n",
    "    print(\"Generating KDE plot\")\n",
    "    g = single_kde_plot(results, params, limit=lim, n_ticks=4, d=d,\n",
    "                 median_file=os.path.join(figPath, \"medians.txt\"))\n",
    "    g.savefig(\n",
    "        os.path.join(figPath, 'kde_{}_real.png'\n",
    "                     .format(str(lim).replace('.', '_'))),\n",
    "        bbox_inches='tight')\n",
    "    print(\"Generating averaged time series plot\")\n",
    "\n",
    "    fig = plot_repeated_outputs(results, n_repeats=25, limit=lim,\n",
    "                                distance=d, **config)\n",
    "    fig.set_size_inches(18.5, 12.5)\n",
    "    fig.savefig(\n",
    "        os.path.join(figPath, 'TS_{}_real.png'\n",
    "                     .format(str(lim).replace('.', '_'))),\n",
    "        dpi=100)"
   ]
  },
  {
   "cell_type": "code",
   "execution_count": null,
   "metadata": {},
   "outputs": [],
   "source": []
  }
 ],
 "metadata": {
  "kernelspec": {
   "display_name": "python3_notebook",
   "language": "python",
   "name": "python3_notebook"
  },
  "language_info": {
   "codemirror_mode": {
    "name": "ipython",
    "version": 3
   },
   "file_extension": ".py",
   "mimetype": "text/x-python",
   "name": "python",
   "nbconvert_exporter": "python",
   "pygments_lexer": "ipython3",
   "version": "3.6.2"
  }
 },
 "nbformat": 4,
 "nbformat_minor": 2
}
